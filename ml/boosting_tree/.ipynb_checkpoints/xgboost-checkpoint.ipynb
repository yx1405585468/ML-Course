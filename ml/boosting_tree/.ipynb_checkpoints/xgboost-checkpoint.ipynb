{
 "cells": [
  {
   "cell_type": "markdown",
   "metadata": {},
   "source": [
    "# 分类问题"
   ]
  },
  {
   "cell_type": "code",
   "execution_count": 28,
   "metadata": {},
   "outputs": [
    {
     "data": {
      "image/png": "[encoded data removed]",
      "text/plain": [
       "<Figure size 432x288 with 1 Axes>"
      ]
     },
     "metadata": {
      "needs_background": "light"
     },
     "output_type": "display_data"
    },
    {
     "name": "stdout",
     "output_type": "stream",
     "text": [
      "0.8947368421052632\n"
     ]
    }
   ],
   "source": [
    "from xgboost import XGBClassifier\n",
    "from xgboost import plot_importance\n",
    "from sklearn.datasets import load_iris\n",
    "from sklearn.model_selection import train_test_split\n",
    "from sklearn.metrics import accuracy_score\n",
    "import matplotlib.pyplot as plt\n",
    "import pandas as pd\n",
    "\n",
    "X,y = load_iris(return_X_y=True) # iris 花\n",
    "x_train, x_test, y_train, y_test = train_test_split(X, y)\n",
    "\n",
    "model = XGBClassifier(learning_rate=0.1,\n",
    "                      n_estimators=100,          # 树的个数--100棵树建立xgboost\n",
    "                      max_depth=6,               # 树的深度\n",
    "                      min_child_weight = 1,      # 叶子节点最小权重\n",
    "                      gamma=0.,                  # 惩罚项中叶子结点个数前的参数\n",
    "                      subsample=0.8,             # 随机选择80%样本建立决策树\n",
    "                      colsample_btree=0.8,       # 随机选择80%特征建立决策树\n",
    "                      objective='multi:softmax', # 指定损失函数\n",
    "                      scale_pos_weight=1         # 解决样本个数不平衡的问题\n",
    "                      )\n",
    "\n",
    "model.fit(x_train,y_train)\n",
    "\n",
    "# plot feature importance\n",
    "plot_importance(model)                                                            \n",
    "plt.show()\n",
    "\n",
    "# make prediction for test data\n",
    "y_pred = model.predict(x_test)\n",
    "\n",
    "# model evaluate\n",
    "accuracy = accuracy_score(y_test,y_pred)\n",
    "print(accuracy)"
   ]
  },
  {
   "attachments": {},
   "cell_type": "markdown",
   "metadata": {},
   "source": [
    "XGBoost 参数一般分为三种：\n",
    "\n",
    "+ General parameters：参数控制在提升（boosting）过程中使用哪种booster，常用的booster有树模型（tree）和线性模型（linear model）。\n",
    "+ Booster parameters：这取决于使用哪种booster。\n",
    "+ Learning Task parameters：控制学习的场景，例如在回归问题中会使用不同的参数控制排序\n",
    "\n",
    "### 通用参数\n",
    "\n",
    "+ booster\n",
    "\n",
    "gbtree和gblinear \n",
    "\n",
    "+ silent\n",
    "\n",
    "默认 0，为1时模型运行不输出 \n",
    "\n",
    "+ nthread\n",
    "\n",
    "默认值为最大可能的线程数\n",
    "\n",
    "\n",
    "\n",
    "### Booster参数\n",
    "\n",
    "+ n_estimator\n",
    "\n",
    "生成的最大树的数目，也是最大的迭代次数\n",
    "\n",
    "+ learning_rate\n",
    "\n",
    "每一步迭代的步长 \n",
    "\n",
    "+ gamma\n",
    "\n",
    "默认 0，Gamma指定了节点分裂所需的最小损失函数下降值\n",
    "\n",
    "+ subsample\n",
    "\n",
    "默认 1，这个参数控制对于每棵树，随机采样的比例 \n",
    "\n",
    "+ colsample_bytree\n",
    "\n",
    "默认 1，用来控制每棵随机采样的列数的占比\n",
    "\n",
    "+ colsample_bylevel\n",
    "\n",
    "默认 1，每棵树每次节点分裂的时候列采样的比例\n",
    "\n",
    "+ max_depth\n",
    "\n",
    "默认 6，我们常用3-10之间的数字。这个值为树的最大深度。这个值是用来控制过拟合的。max_depth越大，模型学习的更加具体\n",
    "\n",
    "+ max_delta_step\n",
    "\n",
    "默认 0，这个参数限制了每棵树权重改变的最大步长，如果这个参数的值为0,则意味着没有约束\n",
    "\n",
    "+ lambda\n",
    "\n",
    "默认 0，权重的L2正则化项\n",
    "\n",
    "+ alpha\n",
    "\n",
    "默认 0，权重的L1正则化项\n",
    "\n",
    "+ scale_pos_weight\n",
    "\n",
    "默认 1，在各类别样本十分不平衡时，把这个参数设定为一个正值，可以使算法更快收敛。通常可以将其设置为负样本的数目与正样本数目的比值\n",
    "\n",
    "\n",
    "### 学习目标参数\n",
    "+ objective\n",
    "\n",
    "reg:linear– 线性回归\n",
    "\n",
    "reg:logistic – 逻辑回归\n",
    "\n",
    "binary:logistic – 二分类逻辑回归，输出为概率\n",
    "\n",
    "binary:logitraw – 二分类逻辑回归，输出的结果为wTx\n",
    "\n",
    "count:poisson – 计数问题的poisson回归，输出结果为poisson分布。在poisson回归中，max_delta_step的缺省值为0.7 (used to safeguard optimization)\n",
    "\n",
    "multi:softmax – 设置 XGBoost 使用softmax目标函数做多分类，需要设置参数num_class（类别个数）\n",
    "\n",
    "multi:softprob – 如同softmax，但是输出结果为ndata*nclass的向量，其中的值是每个数据分为每个类的概率\n",
    "\n",
    "+ eval_metric\n",
    "\n",
    "rmse: 均方根误差\n",
    "\n",
    "mae: 平均绝对值误差\n",
    "\n",
    "logloss: negative log-likelihood\n",
    "\n",
    "error: 二分类错误率。其值通过错误分类数目与全部分类数目比值得到。对于预测，预测值大于0.5被认为是正类，其它归为负类。 error@t: 不同的划分阈值可以通过 ‘t’进行设置\n",
    "\n",
    "merror: 多分类错误率，计算公式为(wrong cases)/(all cases)\n",
    "\n",
    "mlogloss: 多分类log损失\n",
    "\n",
    "auc: 曲线下的面积\n",
    "\n",
    "ndcg: Normalized Discounted Cumulative Gain\n",
    "\n",
    "map: 平均正确率\n"
   ]
  },
  {
   "attachments": {},
   "cell_type": "markdown",
   "metadata": {},
   "source": [
    " `scoring`参数选择 : https://scikit-learn.org/stable/modules/model_evaluation.html#scoring-parameter\n",
    "\n",
    "![](https://tva1.sinaimg.cn/large/007S8ZIlly1gflclt71k4j30o40oo7ak.jpg)"
   ]
  },
  {
   "cell_type": "code",
   "execution_count": 68,
   "metadata": {},
   "outputs": [],
   "source": [
    "# 调参函数\n",
    "from sklearn.model_selection import GridSearchCV\n",
    "from sklearn.model_selection import StratifiedKFold\n",
    "\n",
    "def modify_params(parameters):\n",
    "    #param_grid = {param : param_list}\n",
    "    kfold = StratifiedKFold(n_splits=10, shuffle=True, random_state=7)\n",
    "    model = XGBClassifier()\n",
    "    grid_search = GridSearchCV(model, parameters, scoring=\"accuracy\", n_jobs=-1, cv=kfold)\n",
    "    grid_result = grid_search.fit(x_train,y_train)\n",
    "    means = grid_result.cv_results_['mean_test_score']\n",
    "    stds = grid_result.cv_results_['std_test_score']\n",
    "    params = grid_result.cv_results_['params']\n",
    "    for mean, stdev, param in zip(means, stds, params):\n",
    "        print(\"mean:%f ,std:%f with: %r\" % (mean, stdev, param))\n",
    "    print(\"Best: %f using %s\" % (grid_result.best_score_, grid_result.best_params_))"
   ]
  },
  {
   "cell_type": "code",
   "execution_count": 69,
   "metadata": {},
   "outputs": [
    {
     "name": "stdout",
     "output_type": "stream",
     "text": [
      "mean:0.955357 ,std:0.060176 with: {'learning_rate': 0.0001}\n",
      "mean:0.955357 ,std:0.060176 with: {'learning_rate': 0.001}\n",
      "mean:0.955357 ,std:0.060176 with: {'learning_rate': 0.01}\n",
      "mean:0.964286 ,std:0.043630 with: {'learning_rate': 0.1}\n",
      "mean:0.964286 ,std:0.043630 with: {'learning_rate': 0.2}\n",
      "mean:0.955357 ,std:0.060176 with: {'learning_rate': 0.3}\n",
      "Best: 0.964286 using {'learning_rate': 0.1}\n"
     ]
    }
   ],
   "source": [
    "# 选择学习率\n",
    "learning_rate_param={\"learning_rate\" : [0.0001, 0.001, 0.01, 0.1, 0.2, 0.3]}\n",
    "modify_params(learning_rate_param)"
   ]
  },
  {
   "cell_type": "code",
   "execution_count": 70,
   "metadata": {},
   "outputs": [
    {
     "name": "stdout",
     "output_type": "stream",
     "text": [
      "mean:0.955357 ,std:0.060176 with: {'n_estimators': 10}\n",
      "mean:0.964286 ,std:0.043630 with: {'n_estimators': 100}\n",
      "mean:0.964286 ,std:0.043630 with: {'n_estimators': 500}\n",
      "mean:0.964286 ,std:0.043630 with: {'n_estimators': 1000}\n",
      "Best: 0.964286 using {'n_estimators': 100}\n"
     ]
    }
   ],
   "source": [
    "# 选择树的个数\n",
    "n_estimators_param={\"n_estimators\" : [10, 100, 500, 1000]}\n",
    "modify_params(n_estimators_param)"
   ]
  },
  {
   "cell_type": "code",
   "execution_count": 71,
   "metadata": {},
   "outputs": [
    {
     "name": "stdout",
     "output_type": "stream",
     "text": [
      "mean:0.955357 ,std:0.060176 with: {'learning_rate': 0.01, 'n_estimators': 50}\n",
      "mean:0.955357 ,std:0.060176 with: {'learning_rate': 0.01, 'n_estimators': 100}\n",
      "mean:0.973214 ,std:0.041444 with: {'learning_rate': 0.01, 'n_estimators': 200}\n",
      "mean:0.964286 ,std:0.043630 with: {'learning_rate': 0.01, 'n_estimators': 300}\n",
      "mean:0.964286 ,std:0.043630 with: {'learning_rate': 0.01, 'n_estimators': 500}\n",
      "mean:0.955357 ,std:0.060176 with: {'learning_rate': 0.02, 'n_estimators': 50}\n",
      "mean:0.973214 ,std:0.041444 with: {'learning_rate': 0.02, 'n_estimators': 100}\n",
      "mean:0.964286 ,std:0.043630 with: {'learning_rate': 0.02, 'n_estimators': 200}\n",
      "mean:0.964286 ,std:0.043630 with: {'learning_rate': 0.02, 'n_estimators': 300}\n",
      "mean:0.964286 ,std:0.043630 with: {'learning_rate': 0.02, 'n_estimators': 500}\n",
      "mean:0.964286 ,std:0.043630 with: {'learning_rate': 0.05, 'n_estimators': 50}\n",
      "mean:0.964286 ,std:0.043630 with: {'learning_rate': 0.05, 'n_estimators': 100}\n",
      "mean:0.964286 ,std:0.043630 with: {'learning_rate': 0.05, 'n_estimators': 200}\n",
      "mean:0.964286 ,std:0.043630 with: {'learning_rate': 0.05, 'n_estimators': 300}\n",
      "mean:0.964286 ,std:0.043630 with: {'learning_rate': 0.05, 'n_estimators': 500}\n",
      "mean:0.964286 ,std:0.043630 with: {'learning_rate': 0.1, 'n_estimators': 50}\n",
      "mean:0.964286 ,std:0.043630 with: {'learning_rate': 0.1, 'n_estimators': 100}\n",
      "mean:0.964286 ,std:0.043630 with: {'learning_rate': 0.1, 'n_estimators': 200}\n",
      "mean:0.964286 ,std:0.043630 with: {'learning_rate': 0.1, 'n_estimators': 300}\n",
      "mean:0.964286 ,std:0.043630 with: {'learning_rate': 0.1, 'n_estimators': 500}\n",
      "mean:0.964286 ,std:0.043630 with: {'learning_rate': 0.15, 'n_estimators': 50}\n",
      "mean:0.964286 ,std:0.043630 with: {'learning_rate': 0.15, 'n_estimators': 100}\n",
      "mean:0.964286 ,std:0.043630 with: {'learning_rate': 0.15, 'n_estimators': 200}\n",
      "mean:0.964286 ,std:0.043630 with: {'learning_rate': 0.15, 'n_estimators': 300}\n",
      "mean:0.964286 ,std:0.043630 with: {'learning_rate': 0.15, 'n_estimators': 500}\n",
      "Best: 0.973214 using {'learning_rate': 0.01, 'n_estimators': 200}\n"
     ]
    },
    {
     "name": "stderr",
     "output_type": "stream",
     "text": [
      "/Users/hz/anaconda3/lib/python3.7/site-packages/sklearn/model_selection/_search.py:813: DeprecationWarning: The default of the `iid` parameter will change from True to False in version 0.22 and will be removed in 0.24. This will change numeric results when test-set sizes are unequal.\n",
      "  DeprecationWarning)\n"
     ]
    }
   ],
   "source": [
    "parameters = {\n",
    "    'learning_rate': [0.01, 0.02, 0.05, 0.1, 0.15],\n",
    "    'n_estimators': [50, 100, 200, 300, 500]\n",
    "}\n",
    "modify_params(parameters)"
   ]
  },
  {
   "cell_type": "markdown",
   "metadata": {},
   "source": [
    "# 回归问题"
   ]
  },
  {
   "cell_type": "code",
   "execution_count": 18,
   "metadata": {},
   "outputs": [
    {
     "name": "stdout",
     "output_type": "stream",
     "text": [
      "12.872580643891542\n"
     ]
    },
    {
     "data": {
      "image/png": "[encoded data removed]",
      "text/plain": [
       "<Figure size 432x288 with 1 Axes>"
      ]
     },
     "metadata": {
      "needs_background": "light"
     },
     "output_type": "display_data"
    }
   ],
   "source": [
    "from xgboost import XGBRegressor\n",
    "from xgboost import plot_importance\n",
    "from sklearn.datasets import load_boston\n",
    "from sklearn.model_selection import train_test_split\n",
    "from sklearn.metrics import accuracy_score\n",
    "from sklearn.metrics import mean_squared_error\n",
    "import matplotlib.pyplot as plt\n",
    "\n",
    "\n",
    "X,y = load_boston(return_X_y=True) # 波士顿房价\n",
    "x_train, x_test, y_train, y_test = train_test_split(X, y)\n",
    "\n",
    "model = XGBRegressor(max_depth=5, \n",
    "                         learning_rate=0.1, \n",
    "                         n_estimators=160, \n",
    "                         silent=True, \n",
    "                         objective='reg:gamma')\n",
    "model.fit(x_train, y_train)\n",
    "\n",
    "# 对测试集进行预测\n",
    "y_pred = model.predict(x_test)\n",
    "mse_predict = mean_squared_error(y_test, y_pred)\n",
    "print(mse_predict)\n",
    "\n",
    "# 显示重要特征\n",
    "plot_importance(model)\n",
    "plt.show()"
   ]
  },
  {
   "cell_type": "code",
   "execution_count": 66,
   "metadata": {},
   "outputs": [],
   "source": [
    "# 调参函数\n",
    "from sklearn.model_selection import GridSearchCV\n",
    "from sklearn.model_selection import StratifiedKFold\n",
    "\n",
    "def modify_params(parameters):\n",
    "    #param_grid = {param : param_list}\n",
    "    kfold = StratifiedKFold(n_splits=10, shuffle=True, random_state=7)\n",
    "    model = XGBClassifier()\n",
    "    grid_search = GridSearchCV(model, parameters, scoring=\"neg_mean_squared_error\", n_jobs=-1, cv=kfold)\n",
    "    grid_result = grid_search.fit(x_train,y_train)\n",
    "    means = grid_result.cv_results_['mean_test_score']\n",
    "    stds = grid_result.cv_results_['std_test_score']\n",
    "    params = grid_result.cv_results_['params']\n",
    "    for mean, stdev, param in zip(means, stds, params):\n",
    "        print(\"mean:%f ,std:%f with: %r\" % (mean, stdev, param))\n",
    "    print(\"Best: %f using %s\" % (grid_result.best_score_, grid_result.best_params_))"
   ]
  },
  {
   "cell_type": "code",
   "execution_count": 67,
   "metadata": {},
   "outputs": [
    {
     "name": "stdout",
     "output_type": "stream",
     "text": [
      "mean:-0.044643 ,std:0.060176 with: {'learning_rate': 0.0001}\n",
      "mean:-0.044643 ,std:0.060176 with: {'learning_rate': 0.001}\n",
      "mean:-0.044643 ,std:0.060176 with: {'learning_rate': 0.01}\n",
      "mean:-0.035714 ,std:0.043630 with: {'learning_rate': 0.1}\n",
      "mean:-0.035714 ,std:0.043630 with: {'learning_rate': 0.2}\n",
      "mean:-0.044643 ,std:0.060176 with: {'learning_rate': 0.3}\n",
      "Best: -0.035714 using {'learning_rate': 0.1}\n"
     ]
    },
    {
     "name": "stderr",
     "output_type": "stream",
     "text": [
      "/Users/hz/anaconda3/lib/python3.7/site-packages/sklearn/model_selection/_search.py:813: DeprecationWarning: The default of the `iid` parameter will change from True to False in version 0.22 and will be removed in 0.24. This will change numeric results when test-set sizes are unequal.\n",
      "  DeprecationWarning)\n"
     ]
    }
   ],
   "source": [
    "# 选择学习率\n",
    "learning_rate_param={\"learning_rate\" : [0.0001, 0.001, 0.01, 0.1, 0.2, 0.3]}\n",
    "modify_params(learning_rate_param)"
   ]
  },
  {
   "cell_type": "code",
   "execution_count": null,
   "metadata": {},
   "outputs": [],
   "source": []
  }
 ],
 "metadata": {
  "kernelspec": {
   "display_name": "Python 3",
   "language": "python",
   "name": "python3"
  },
  "language_info": {
   "codemirror_mode": {
    "name": "ipython",
    "version": 3
   },
   "file_extension": ".py",
   "mimetype": "text/x-python",
   "name": "python",
   "nbconvert_exporter": "python",
   "pygments_lexer": "ipython3",
   "version": "3.7.0"
  },
  "toc": {
   "base_numbering": 1,
   "nav_menu": {},
   "number_sections": true,
   "sideBar": true,
   "skip_h1_title": false,
   "title_cell": "Table of Contents",
   "title_sidebar": "Contents",
   "toc_cell": false,
   "toc_position": {},
   "toc_section_display": true,
   "toc_window_display": false
  }
 },
 "nbformat": 4,
 "nbformat_minor": 2
}
